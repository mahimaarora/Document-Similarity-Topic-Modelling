{
 "cells": [
  {
   "cell_type": "markdown",
   "metadata": {},
   "source": [
    "# Document Similarity & Topic Modelling"
   ]
  },
  {
   "cell_type": "code",
   "execution_count": 1,
   "metadata": {
    "collapsed": true
   },
   "outputs": [],
   "source": [
    "import numpy as np\n",
    "import nltk\n",
    "from nltk.corpus import wordnet as wn\n",
    "import pandas as pd\n",
    "\n",
    "\n",
    "def convert_tag(tag):\n",
    "    #Converting the tag given by nltk.pos_tag to the tag used by wordnet.synsets\n",
    "    \n",
    "    tag_dict = {'N': 'n', 'J': 'a', 'R': 'r', 'V': 'v'}\n",
    "    try:\n",
    "        return tag_dict[tag[0]]\n",
    "    except KeyError:\n",
    "        return None\n",
    "\n",
    "\n",
    "def doc_to_synsets(doc):\n",
    "    \n",
    "#     Returns a list of synsets in document.\n",
    "#     Tokenizes and tags the words in the document doc.\n",
    "#     Then finds the first synset for each word/tag combination.\n",
    "#     If a synset is not found for that combination it is skipped.\n",
    "\n",
    "    tokens = nltk.word_tokenize(doc)\n",
    "    pos_tags = nltk.pos_tag(tokens)\n",
    "    tags = [i[1] for i in pos_tags]\n",
    "    tags_convert = [convert_tag(i) for i in tags]\n",
    "    synsets_list = list(zip(tokens,tags_convert))\n",
    "    synsets_convert = [wn.synsets(i, j) for i,j in synsets_list]\n",
    "    synsets_match = [i[0] for i in synsets_convert if len(i) > 0]\n",
    "    \n",
    "    return synsets_match\n",
    "\n",
    "\n",
    "def similarity_score(s1, s2):\n",
    "#     Calculating the normalized similarity score of s1 onto s2    \n",
    "    \n",
    "    similarity_values = []\n",
    "    for i in s1:\n",
    "        scores = [score for score in [i.path_similarity(j) for j in s2] if score is not None]\n",
    "        if scores:        \n",
    "            similarity_values.append(max(scores))\n",
    "    normalized_value = sum(similarity_values) / len(similarity_values)\n",
    "    return normalized_value\n",
    "\n",
    "\n",
    "def document_path_similarity(doc1, doc2):\n",
    "#     Finding the symmetrical similarity between doc1 and doc2\n",
    "\n",
    "    synsets1 = doc_to_synsets(doc1)\n",
    "    synsets2 = doc_to_synsets(doc2)\n",
    "\n",
    "    return (similarity_score(synsets1, synsets2) + similarity_score(synsets2, synsets1)) / 2"
   ]
  },
  {
   "cell_type": "markdown",
   "metadata": {},
   "source": [
    "### test_document_path_similarity\n",
    "\n",
    "Use this function to check if doc_to_synsets and similarity_score are correct.\n",
    "\n",
    "*This function should return the similarity score as a float.*"
   ]
  },
  {
   "cell_type": "code",
   "execution_count": 12,
   "metadata": {
    "collapsed": true
   },
   "outputs": [],
   "source": [
    "#Returns the similarity score\n",
    "def test_document_path_similarity():\n",
    "    doc1 = 'This is a function to test document_path_similarity.'\n",
    "    doc2 = 'Use this function to see if your code in doc_to_synsets \\\n",
    "    and similarity_score is correct!'\n",
    "    return document_path_similarity(doc1, doc2)"
   ]
  },
  {
   "cell_type": "code",
   "execution_count": 13,
   "metadata": {},
   "outputs": [
    {
     "data": {
      "text/plain": [
       "0.554265873015873"
      ]
     },
     "execution_count": 13,
     "metadata": {},
     "output_type": "execute_result"
    }
   ],
   "source": [
    "test_document_path_similarity()"
   ]
  },
  {
   "cell_type": "code",
   "execution_count": 122,
   "metadata": {},
   "outputs": [
    {
     "data": {
      "text/html": [
       "<div>\n",
       "<style>\n",
       "    .dataframe thead tr:only-child th {\n",
       "        text-align: right;\n",
       "    }\n",
       "\n",
       "    .dataframe thead th {\n",
       "        text-align: left;\n",
       "    }\n",
       "\n",
       "    .dataframe tbody tr th {\n",
       "        vertical-align: top;\n",
       "    }\n",
       "</style>\n",
       "<table border=\"1\" class=\"dataframe\">\n",
       "  <thead>\n",
       "    <tr style=\"text-align: right;\">\n",
       "      <th></th>\n",
       "      <th>Quality</th>\n",
       "      <th>D1</th>\n",
       "      <th>D2</th>\n",
       "    </tr>\n",
       "  </thead>\n",
       "  <tbody>\n",
       "    <tr>\n",
       "      <th>0</th>\n",
       "      <td>1</td>\n",
       "      <td>Ms Stewart, the chief executive, was not expec...</td>\n",
       "      <td>Ms Stewart, 61, its chief executive officer an...</td>\n",
       "    </tr>\n",
       "    <tr>\n",
       "      <th>1</th>\n",
       "      <td>1</td>\n",
       "      <td>After more than two years' detention under the...</td>\n",
       "      <td>After more than two years in detention by the ...</td>\n",
       "    </tr>\n",
       "    <tr>\n",
       "      <th>2</th>\n",
       "      <td>1</td>\n",
       "      <td>\"It still remains to be seen whether the reven...</td>\n",
       "      <td>\"It remains to be seen whether the revenue rec...</td>\n",
       "    </tr>\n",
       "    <tr>\n",
       "      <th>3</th>\n",
       "      <td>0</td>\n",
       "      <td>And it's going to be a wild ride,\" said Allan ...</td>\n",
       "      <td>Now the rest is just mechanical,\" said Allan H...</td>\n",
       "    </tr>\n",
       "    <tr>\n",
       "      <th>4</th>\n",
       "      <td>1</td>\n",
       "      <td>The cards are issued by Mexico's consulates to...</td>\n",
       "      <td>The card is issued by Mexico's consulates to i...</td>\n",
       "    </tr>\n",
       "  </tbody>\n",
       "</table>\n",
       "</div>"
      ],
      "text/plain": [
       "   Quality                                                 D1  \\\n",
       "0        1  Ms Stewart, the chief executive, was not expec...   \n",
       "1        1  After more than two years' detention under the...   \n",
       "2        1  \"It still remains to be seen whether the reven...   \n",
       "3        0  And it's going to be a wild ride,\" said Allan ...   \n",
       "4        1  The cards are issued by Mexico's consulates to...   \n",
       "\n",
       "                                                  D2  \n",
       "0  Ms Stewart, 61, its chief executive officer an...  \n",
       "1  After more than two years in detention by the ...  \n",
       "2  \"It remains to be seen whether the revenue rec...  \n",
       "3  Now the rest is just mechanical,\" said Allan H...  \n",
       "4  The card is issued by Mexico's consulates to i...  "
      ]
     },
     "execution_count": 122,
     "metadata": {},
     "output_type": "execute_result"
    }
   ],
   "source": [
    "paraphrases = pd.read_csv('paraphrases.csv')\n",
    "paraphrases.head()"
   ]
  },
  {
   "cell_type": "markdown",
   "metadata": {},
   "source": [
    "\n",
    "### most_similar_docs\n"
   ]
  },
  {
   "cell_type": "code",
   "execution_count": 124,
   "metadata": {},
   "outputs": [
    {
     "data": {
      "text/plain": [
       "('\"Indeed, Iran should be put on notice that efforts to try to remake Iraq in their image will be aggressively put down,\" he said.',\n",
       " '\"Iran should be on notice that attempts to remake Iraq in Iran\\'s image will be aggressively put down,\" he said.\\n',\n",
       " 0.9753086419753086)"
      ]
     },
     "execution_count": 124,
     "metadata": {},
     "output_type": "execute_result"
    }
   ],
   "source": [
    "def most_similar_docs():\n",
    "    \n",
    "    paraphrases = pd.read_csv('paraphrases.csv')\n",
    "    df = paraphrases[paraphrases['Quality'] == 1]\n",
    "    list_of_tuples = []\n",
    "    for index, row in df.iterrows():\n",
    "        list_of_tuples.append((row['D1'], row['D2'], document_path_similarity(row['D1'], row['D2'])))\n",
    "        \n",
    "    from operator import itemgetter\n",
    "    max_similarity_tuple = max(list_of_tuples,key=itemgetter(2))\n",
    "    return max_similarity_tuple\n",
    "\n",
    "most_similar_docs()"
   ]
  },
  {
   "cell_type": "markdown",
   "metadata": {},
   "source": [
    "### label_accuracy\n"
   ]
  },
  {
   "cell_type": "code",
   "execution_count": 126,
   "metadata": {},
   "outputs": [
    {
     "data": {
      "text/plain": [
       "0.80000000000000004"
      ]
     },
     "execution_count": 126,
     "metadata": {},
     "output_type": "execute_result"
    }
   ],
   "source": [
    "def label_accuracy():\n",
    "    \n",
    "    from sklearn.metrics import accuracy_score\n",
    "    paraphrases = pd.read_csv('paraphrases.csv')\n",
    "    similarity_score = []\n",
    "    \n",
    "    for index, row in paraphrases.iterrows():\n",
    "        score = document_path_similarity(row['D1'], row['D2'])\n",
    "        s = 1 if score > 0.75 else 0\n",
    "        similarity_score.append(s)\n",
    "        \n",
    "    paraphrases['Similarity_score'] = similarity_score\n",
    "    accuracy = accuracy_score(paraphrases['Similarity_score'], paraphrases['Quality'])\n",
    "    \n",
    "    return accuracy\n",
    "label_accuracy()"
   ]
  },
  {
   "cell_type": "markdown",
   "metadata": {},
   "source": [
    "## Part 2 - Topic Modelling\n"
   ]
  },
  {
   "cell_type": "code",
   "execution_count": 128,
   "metadata": {
    "collapsed": true
   },
   "outputs": [],
   "source": [
    "import pickle\n",
    "import gensim\n",
    "from sklearn.feature_extraction.text import CountVectorizer\n",
    "\n",
    "# Loading the list of documents\n",
    "with open('newsgroups', 'rb') as f:\n",
    "    newsgroup_data = pickle.load(f)\n",
    "\n",
    "# Using CountVectorizor to find three letter tokens, remove stop_words, \n",
    "# removing tokens that don't appear in at least 20 documents,\n",
    "# removing tokens that appear in more than 20% of the documents\n",
    "vect = CountVectorizer(min_df=20, max_df=0.2, stop_words='english', \n",
    "                       token_pattern='(?u)\\\\b\\\\w\\\\w\\\\w+\\\\b')\n",
    "# Fit and transform\n",
    "X = vect.fit_transform(newsgroup_data)\n",
    "\n",
    "# Converting sparse matrix to gensim corpus.\n",
    "corpus = gensim.matutils.Sparse2Corpus(X, documents_columns=False)\n",
    "\n",
    "# Mapping from word IDs to words\n",
    "id_map = dict((v, k) for k, v in vect.vocabulary_.items())\n"
   ]
  },
  {
   "cell_type": "code",
   "execution_count": 130,
   "metadata": {},
   "outputs": [
    {
     "data": {
      "text/plain": [
       "<gensim.models.ldamodel.LdaModel at 0x7f3180e73588>"
      ]
     },
     "execution_count": 130,
     "metadata": {},
     "output_type": "execute_result"
    }
   ],
   "source": [
    "# Using the gensim.models.ldamodel.LdaModel constructor to estimate \n",
    "ldamodel = gensim.models.ldamodel.LdaModel(corpus, id2word=id_map, num_topics=10, passes=25, random_state=0)\n",
    "ldamodel "
   ]
  },
  {
   "cell_type": "markdown",
   "metadata": {},
   "source": [
    "### lda_topics\n",
    "\n",
    "Finding a list of the 10 topics and the most significant 10 words in each topic"
   ]
  },
  {
   "cell_type": "code",
   "execution_count": 132,
   "metadata": {},
   "outputs": [
    {
     "data": {
      "text/plain": [
       "[(0,\n",
       "  '0.059*\"car\" + 0.019*\"cars\" + 0.018*\"000\" + 0.013*\"100\" + 0.012*\"high\" + 0.011*\"speed\" + 0.011*\"oil\" + 0.011*\"driving\" + 0.010*\"auto\" + 0.010*\"200\"'),\n",
       " (1,\n",
       "  '0.025*\"time\" + 0.018*\"just\" + 0.017*\"bike\" + 0.014*\"don\" + 0.014*\"good\" + 0.011*\"know\" + 0.010*\"used\" + 0.009*\"use\" + 0.009*\"want\" + 0.009*\"turn\"'),\n",
       " (2,\n",
       "  '0.019*\"just\" + 0.019*\"don\" + 0.014*\"new\" + 0.013*\"good\" + 0.012*\"know\" + 0.011*\"think\" + 0.010*\"years\" + 0.009*\"little\" + 0.009*\"people\" + 0.009*\"really\"'),\n",
       " (3,\n",
       "  '0.026*\"don\" + 0.020*\"think\" + 0.020*\"does\" + 0.016*\"say\" + 0.015*\"people\" + 0.014*\"know\" + 0.013*\"just\" + 0.013*\"did\" + 0.011*\"believe\" + 0.011*\"argument\"'),\n",
       " (4,\n",
       "  '0.015*\"way\" + 0.014*\"pain\" + 0.014*\"edu\" + 0.014*\"good\" + 0.013*\"things\" + 0.013*\"pick\" + 0.012*\"pitt\" + 0.012*\"soon\" + 0.011*\"gordon\" + 0.011*\"low\"'),\n",
       " (5,\n",
       "  '0.023*\"people\" + 0.021*\"god\" + 0.016*\"ground\" + 0.013*\"science\" + 0.011*\"religion\" + 0.011*\"current\" + 0.011*\"point\" + 0.010*\"theory\" + 0.009*\"example\" + 0.009*\"evidence\"'),\n",
       " (6,\n",
       "  '0.029*\"drive\" + 0.020*\"disk\" + 0.017*\"card\" + 0.016*\"use\" + 0.015*\"scsi\" + 0.015*\"does\" + 0.014*\"drives\" + 0.014*\"hard\" + 0.014*\"thanks\" + 0.013*\"controller\"'),\n",
       " (7,\n",
       "  '0.087*\"edu\" + 0.068*\"com\" + 0.025*\"new\" + 0.022*\"period\" + 0.019*\"john\" + 0.016*\"second\" + 0.015*\"leafs\" + 0.014*\"runs\" + 0.014*\"power\" + 0.013*\"rangers\"'),\n",
       " (8,\n",
       "  '0.036*\"game\" + 0.032*\"team\" + 0.027*\"year\" + 0.021*\"games\" + 0.015*\"season\" + 0.015*\"players\" + 0.015*\"good\" + 0.015*\"play\" + 0.014*\"hockey\" + 0.013*\"win\"'),\n",
       " (9,\n",
       "  '0.045*\"space\" + 0.024*\"data\" + 0.023*\"nasa\" + 0.019*\"information\" + 0.017*\"available\" + 0.014*\"center\" + 0.013*\"program\" + 0.012*\"ftp\" + 0.012*\"edu\" + 0.011*\"use\"')]"
      ]
     },
     "execution_count": 132,
     "metadata": {},
     "output_type": "execute_result"
    }
   ],
   "source": [
    "def lda_topics():\n",
    "        \n",
    "    return ldamodel.print_topics(num_topics=10, num_words=10)\n",
    "lda_topics()"
   ]
  },
  {
   "cell_type": "markdown",
   "metadata": {},
   "source": [
    "### topic_distribution\n",
    "\n",
    "Finding the topic distribution"
   ]
  },
  {
   "cell_type": "code",
   "execution_count": 133,
   "metadata": {
    "collapsed": true
   },
   "outputs": [],
   "source": [
    "new_doc = [\"\\n\\nIt's my understanding that the freezing will start to occur because \\\n",
    "of the\\ngrowing distance of Pluto and Charon from the Sun, due to it's\\nelliptical orbit. \\\n",
    "It is not due to shadowing effects. \\n\\n\\nPluto can shadow Charon, and vice-versa.\\n\\nGeorge \\\n",
    "Krumins\\n-- \"]"
   ]
  },
  {
   "cell_type": "code",
   "execution_count": 139,
   "metadata": {},
   "outputs": [
    {
     "data": {
      "text/plain": [
       "[(0, 0.020000452424091701),\n",
       " (1, 0.020002134173931124),\n",
       " (2, 0.020001910923382809),\n",
       " (3, 0.020002012138214002),\n",
       " (4, 0.020001258337738501),\n",
       " (5, 0.020001088685979801),\n",
       " (6, 0.020000190954947098),\n",
       " (7, 0.57220067832463106),\n",
       " (8, 0.020001762152735143),\n",
       " (9, 0.26778851188434882)]"
      ]
     },
     "execution_count": 139,
     "metadata": {},
     "output_type": "execute_result"
    }
   ],
   "source": [
    "def topic_distribution():\n",
    "    \n",
    "    new_doc_vt = vect.transform(new_doc)\n",
    "    corpus = corpus = gensim.matutils.Sparse2Corpus(new_doc_vt, documents_columns=False)\n",
    "    return list(ldamodel[corpus])[0]\n",
    "\n",
    "topic_distribution()"
   ]
  },
  {
   "cell_type": "markdown",
   "metadata": {},
   "source": [
    "### topic_names"
   ]
  },
  {
   "cell_type": "code",
   "execution_count": 140,
   "metadata": {
    "collapsed": true
   },
   "outputs": [],
   "source": [
    "def topic_names():\n",
    "        \n",
    "    return ['Automobiles', 'Travel', 'Politics', \n",
    "            'Society & Lifestyle','Health' ,'Religion', \n",
    "            'Computers & IT', 'Business', 'Sports',\n",
    "             'Science']"
   ]
  }
 ],
 "metadata": {
  "coursera": {
   "course_slug": "python-text-mining",
   "graded_item_id": "2qbcK",
   "launcher_item_id": "pi9Sh",
   "part_id": "kQiwX"
  },
  "kernelspec": {
   "display_name": "Python 3",
   "language": "python",
   "name": "python3"
  },
  "language_info": {
   "codemirror_mode": {
    "name": "ipython",
    "version": 3
   },
   "file_extension": ".py",
   "mimetype": "text/x-python",
   "name": "python",
   "nbconvert_exporter": "python",
   "pygments_lexer": "ipython3",
   "version": "3.6.4"
  }
 },
 "nbformat": 4,
 "nbformat_minor": 2
}
